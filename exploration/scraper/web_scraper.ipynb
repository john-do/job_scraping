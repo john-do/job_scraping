{
 "cells": [
  {
   "cell_type": "markdown",
   "metadata": {},
   "source": [
    "# My first web scraper\n",
    "maybe it will help me get a job\n"
   ]
  },
  {
   "cell_type": "code",
   "execution_count": 4,
   "metadata": {},
   "outputs": [
    {
     "name": "stdout",
     "output_type": "stream",
     "text": [
      "Collecting bs4\n",
      "  Downloading https://files.pythonhosted.org/packages/10/ed/7e8b97591f6f456174139ec089c769f89a94a1a4025fe967691de971f314/bs4-0.0.1.tar.gz\n",
      "Collecting beautifulsoup4 (from bs4)\n",
      "  Downloading https://files.pythonhosted.org/packages/9e/d4/10f46e5cfac773e22707237bfcd51bbffeaf0a576b0a847ec7ab15bd7ace/beautifulsoup4-4.6.0-py3-none-any.whl (86kB)\n",
      "Installing collected packages: beautifulsoup4, bs4\n",
      "  Running setup.py install for bs4: started\n",
      "    Running setup.py install for bs4: finished with status 'done'\n",
      "Successfully installed beautifulsoup4-4.6.0 bs4-0.0.1\n"
     ]
    }
   ],
   "source": [
    "!pip install bs4\n"
   ]
  },
  {
   "cell_type": "code",
   "execution_count": 176,
   "metadata": {},
   "outputs": [],
   "source": [
    "## all imports\n",
    "#from IPython.display import HTML\n",
    "import numpy as np\n",
    "#import urllib3\n",
    "import requests\n",
    "import bs4 #this is beautiful soup\n",
    "import time\n",
    "#import operator\n",
    "#import socket\n",
    "#import cPickle\n",
    "#import re # regular expressions\n",
    "\n",
    "#from pandas import Series\n",
    "import pandas as pd\n",
    "#from pandas import DataFrame\n",
    "\n",
    "import matplotlib\n",
    "import matplotlib.pyplot as plt\n",
    "%matplotlib inline\n",
    "\n",
    "#import seaborn as sns\n",
    "#sns.set_context(\"talk\")\n",
    "#sns.set_style(\"white\")"
   ]
  },
  {
   "cell_type": "code",
   "execution_count": 161,
   "metadata": {},
   "outputs": [],
   "source": [
    "#practice with first page or indeed.com search \"ceramic, colorado\"\n",
    "url = 'https://www.indeed.com/jobs?q=Ceramic&l=Colorado'\n",
    "\n",
    "html_source = requests.get(url)\n",
    "#print(html_source.content)"
   ]
  },
  {
   "cell_type": "code",
   "execution_count": 162,
   "metadata": {},
   "outputs": [],
   "source": [
    "# parse in BeautifulSoup\n",
    "soup = bs4.BeautifulSoup(html_source.content, \"html.parser\")"
   ]
  },
  {
   "cell_type": "code",
   "execution_count": 105,
   "metadata": {},
   "outputs": [],
   "source": [
    "#print tests\n",
    "#print(soup)"
   ]
  },
  {
   "cell_type": "code",
   "execution_count": 106,
   "metadata": {},
   "outputs": [],
   "source": [
    "#print(soup.prettify())"
   ]
  },
  {
   "cell_type": "code",
   "execution_count": 163,
   "metadata": {},
   "outputs": [
    {
     "name": "stdout",
     "output_type": "stream",
     "text": [
      "237 jobs found\n"
     ]
    }
   ],
   "source": [
    "# get number of job postings\n",
    "posting_total = soup.find(id = 'searchCount').contents[0]\n",
    "posting_total = posting_total.split()[-2]\n",
    "print(posting_total, \"jobs found\")"
   ]
  },
  {
   "cell_type": "code",
   "execution_count": 164,
   "metadata": {},
   "outputs": [
    {
     "name": "stdout",
     "output_type": "stream",
     "text": [
      "{'Art Studio (Three-Dimensional Media) Affiliate/Part-Time Ins...': {'company': 'Metropolitan State University of Denver', 'location': 'Denver, CO 80204 (Central West Denver area)'}, 'Part Time Instructor, Studio Art - Ceramics #600000 LC': {'company': 'Front Range Community College', 'location': 'Fort Collins, CO 80526'}, 'Materials Engineer Staff (Composites)': {'company': 'Lockheed Martin', 'location': 'Littleton, CO 80125'}, 'Project/Program Coordinator': {'company': 'CoorsTek, Inc.', 'location': 'Golden, CO'}, 'Chemist I': {'company': 'CoorsTek, Inc.', 'location': 'Golden, CO'}, 'Engineer II/Project Program Coordinator': {'company': 'CoorsTek, Inc.', 'location': 'Golden, CO'}, 'Laboratory Materials Analyst': {'company': 'CoorsTek, Inc.', 'location': 'Golden, CO'}, 'Quality Control Inspector I': {'company': 'CoorsTek, Inc.', 'location': 'Golden, CO'}, 'Quality Assurance Engineer I': {'company': 'CoorsTek, Inc.', 'location': 'Golden, CO'}}\n"
     ]
    }
   ],
   "source": [
    "# start search by finding number of jobs in an area that meet ceramic criteria\n",
    "url_start = 'https://www.indeed.com/q-Ceramic-l-Colorado-jobs.html'\n",
    "html_source = requests.get(url_start)\n",
    "\n",
    "# get job titles for this page\n",
    "jobs = {}\n",
    "job_area = soup.find(id = 'resultsCol')\n",
    "#print(job_area.prettify())\n",
    "# job information are found in div with class = ' row result'\n",
    "job_elements = job_area.findAll('div',{\"class\": \" row result\"})\n",
    "\n",
    "for element in job_elements:\n",
    "    #print(element,'\\n\\n\\n\\n')\n",
    "    \n",
    "    #job title is in contents of h2\n",
    "    jobs[element.h2.get_text().strip()]={}\n",
    "    \n",
    "    #company\n",
    "    company =element.find('span',{'class':'company'}).get_text()\n",
    "    company = company.strip()\n",
    "    jobs[element.h2.get_text().strip()][\"company\"]=company\n",
    "    \n",
    "    #job location\n",
    "    location = element.find('span',{'class':'location'}).get_text().strip()\n",
    "    jobs[element.h2.get_text().strip()][\"location\"]=location\n",
    "    \n",
    "    #\n",
    "    \n",
    "#print(job_titles)\n",
    "#job_listing = job_titles.find_all('div', class_='turnstileLink')\n",
    "\n",
    "print(jobs)"
   ]
  },
  {
   "cell_type": "code",
   "execution_count": 179,
   "metadata": {},
   "outputs": [
    {
     "name": "stdout",
     "output_type": "stream",
     "text": [
      "193 jobs found\n",
      "https://www.indeed.com/jobs?q=Ceramic&l=Colorado&start=10\n",
      "https://www.indeed.com/jobs?q=Ceramic&l=Colorado&start=20\n",
      "https://www.indeed.com/jobs?q=Ceramic&l=Colorado&start=30\n",
      "https://www.indeed.com/jobs?q=Ceramic&l=Colorado&start=40\n",
      "https://www.indeed.com/jobs?q=Ceramic&l=Colorado&start=50\n",
      "https://www.indeed.com/jobs?q=Ceramic&l=Colorado&start=60\n",
      "https://www.indeed.com/jobs?q=Ceramic&l=Colorado&start=70\n",
      "https://www.indeed.com/jobs?q=Ceramic&l=Colorado&start=80\n",
      "https://www.indeed.com/jobs?q=Ceramic&l=Colorado&start=90\n",
      "https://www.indeed.com/jobs?q=Ceramic&l=Colorado&start=100\n",
      "https://www.indeed.com/jobs?q=Ceramic&l=Colorado&start=110\n",
      "https://www.indeed.com/jobs?q=Ceramic&l=Colorado&start=120\n",
      "https://www.indeed.com/jobs?q=Ceramic&l=Colorado&start=130\n",
      "https://www.indeed.com/jobs?q=Ceramic&l=Colorado&start=140\n",
      "https://www.indeed.com/jobs?q=Ceramic&l=Colorado&start=150\n",
      "https://www.indeed.com/jobs?q=Ceramic&l=Colorado&start=160\n",
      "https://www.indeed.com/jobs?q=Ceramic&l=Colorado&start=170\n",
      "https://www.indeed.com/jobs?q=Ceramic&l=Colorado&start=180\n",
      "https://www.indeed.com/jobs?q=Ceramic&l=Colorado&start=190\n",
      "62 scrapped\n"
     ]
    }
   ],
   "source": [
    "## Implement for multiple pages\n",
    "# have posting_total from before\n",
    "jobs = {}\n",
    "base_url = 'https://www.indeed.com/jobs?q=Ceramic&l=Colorado&start='\n",
    "html_source = requests.get(url)\n",
    "soup = bs4.BeautifulSoup(html_source.content, \"html.parser\")\n",
    "\n",
    "posting_total = soup.find(id = 'searchCount').contents[0]\n",
    "posting_total = posting_total.split()[-2]\n",
    "print(posting_total, \"jobs found\")\n",
    "\n",
    "for i in range(10,int(posting_total),10):\n",
    "    working_url = base_url+str(i)\n",
    "    print(working_url)\n",
    "    \n",
    "    html_source = requests.get(working_url)\n",
    "    \n",
    "    soup = bs4.BeautifulSoup(html_source.content, \"html.parser\")\n",
    "    \n",
    "    job_area = soup.find(id = 'resultsCol')\n",
    "    #print(job_area.prettify())\n",
    "    # job information are found in div with class = ' row result'\n",
    "    job_elements = job_area.findAll('div',{\"class\": \" row result\"})\n",
    "\n",
    "    for element in job_elements:\n",
    "        #print(element,'\\n\\n\\n\\n')\n",
    "\n",
    "        #job title is in contents of h2\n",
    "        jobs[element.h2.get_text().strip()]={}\n",
    "\n",
    "        #company\n",
    "        company =element.find('span',{'class':'company'}).get_text()\n",
    "        company = company.strip()\n",
    "        jobs[element.h2.get_text().strip()][\"company\"]=company\n",
    "\n",
    "        #job location\n",
    "        location = element.find('span',{'class':'location'}).get_text().strip()\n",
    "        jobs[element.h2.get_text().strip()][\"location\"]=location\n",
    "    \n",
    "    time.sleep(1)\n",
    "    \n",
    "print(len(jobs), 'jobs scrapped')\n"
   ]
  },
  {
   "cell_type": "code",
   "execution_count": 185,
   "metadata": {},
   "outputs": [
    {
     "name": "stdout",
     "output_type": "stream",
     "text": [
      "Pretty printing has been turned OFF\n"
     ]
    }
   ],
   "source": [
    "pprint(jobs)"
   ]
  },
  {
   "cell_type": "code",
   "execution_count": 184,
   "metadata": {},
   "outputs": [
    {
     "data": {
      "text/plain": [
       "{'company': 'Avenue5 Residential', 'location': 'Aurora, CO'}"
      ]
     },
     "execution_count": 184,
     "metadata": {},
     "output_type": "execute_result"
    }
   ],
   "source": [
    "## Clean jobs, remove jobs with certain words\n",
    "original_job_length = len(jobs)\n",
    "job_removal = [\"technician\", \"tile\",'auto','driver','domino\\'s']\n",
    "\n",
    "for job in jobs:\n",
    "    if job\n",
    "jobs[\"Maintenance Technician | Crestone\"]"
   ]
  },
  {
   "cell_type": "code",
   "execution_count": null,
   "metadata": {},
   "outputs": [],
   "source": []
  }
 ],
 "metadata": {
  "kernelspec": {
   "display_name": "Python 3",
   "language": "python",
   "name": "python3"
  },
  "language_info": {
   "codemirror_mode": {
    "name": "ipython",
    "version": 3
   },
   "file_extension": ".py",
   "mimetype": "text/x-python",
   "name": "python",
   "nbconvert_exporter": "python",
   "pygments_lexer": "ipython3",
   "version": "3.6.5"
  }
 },
 "nbformat": 4,
 "nbformat_minor": 2
}
